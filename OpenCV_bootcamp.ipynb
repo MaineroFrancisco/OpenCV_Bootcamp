{
 "cells": [
  {
   "cell_type": "code",
   "execution_count": 3,
   "id": "9fa931ca-fad5-4803-a9dd-3ab4d0e53ed3",
   "metadata": {},
   "outputs": [
    {
     "name": "stdout",
     "output_type": "stream",
     "text": [
      "Collecting opencv-pythonNote: you may need to restart the kernel to use updated packages.\n",
      "\n",
      "  Downloading opencv_python-4.10.0.84-cp37-abi3-win_amd64.whl.metadata (20 kB)\n",
      "Requirement already satisfied: numpy>=1.21.2 in c:\\users\\maine\\anaconda3\\lib\\site-packages (from opencv-python) (1.26.4)\n",
      "Downloading opencv_python-4.10.0.84-cp37-abi3-win_amd64.whl (38.8 MB)\n",
      "   ---------------------------------------- 0.0/38.8 MB ? eta -:--:--\n",
      "   -- ------------------------------------- 2.1/38.8 MB 13.1 MB/s eta 0:00:03\n",
      "   ----- ---------------------------------- 5.5/38.8 MB 14.0 MB/s eta 0:00:03\n",
      "   --------- ------------------------------ 8.9/38.8 MB 14.2 MB/s eta 0:00:03\n",
      "   ------------ --------------------------- 11.8/38.8 MB 14.2 MB/s eta 0:00:02\n",
      "   --------------- ------------------------ 15.2/38.8 MB 14.3 MB/s eta 0:00:02\n",
      "   ------------------ --------------------- 18.1/38.8 MB 14.3 MB/s eta 0:00:02\n",
      "   --------------------- ------------------ 21.2/38.8 MB 14.3 MB/s eta 0:00:02\n",
      "   ------------------------- -------------- 24.4/38.8 MB 14.3 MB/s eta 0:00:02\n",
      "   ---------------------------- ----------- 27.5/38.8 MB 14.3 MB/s eta 0:00:01\n",
      "   ------------------------------- -------- 30.7/38.8 MB 14.3 MB/s eta 0:00:01\n",
      "   ---------------------------------- ----- 33.6/38.8 MB 14.3 MB/s eta 0:00:01\n",
      "   ------------------------------------- -- 36.7/38.8 MB 14.3 MB/s eta 0:00:01\n",
      "   ---------------------------------------  38.8/38.8 MB 14.3 MB/s eta 0:00:01\n",
      "   ---------------------------------------- 38.8/38.8 MB 13.9 MB/s eta 0:00:00\n",
      "Installing collected packages: opencv-python\n",
      "Successfully installed opencv-python-4.10.0.84\n"
     ]
    }
   ],
   "source": [
    "pip install opencv-python"
   ]
  },
  {
   "cell_type": "code",
   "execution_count": 5,
   "id": "0e92ca2f-388a-484d-8c59-e3311f001ab7",
   "metadata": {},
   "outputs": [
    {
     "name": "stderr",
     "output_type": "stream",
     "text": [
      "Matplotlib is building the font cache; this may take a moment.\n"
     ]
    }
   ],
   "source": [
    "import os\n",
    "import cv2\n",
    "import numpy as np\n",
    "import matplotlib.pyplot as plt\n",
    "\n",
    "from zipfile import ZipFile\n",
    "from urllib.request import urlretrieve\n",
    "\n",
    "from IPython.display import Image\n",
    "\n",
    "%matplotlib inline"
   ]
  },
  {
   "cell_type": "code",
   "execution_count": 7,
   "id": "0cf3deff-ded1-4434-812f-fa539d49b544",
   "metadata": {},
   "outputs": [],
   "source": [
    "def download_and_unzip(url, save_path):\n",
    "    print(f\"Downloading and extracting assests....\", end=\"\")\n",
    "\n",
    "    # Downloading zip file using urllib package.\n",
    "    urlretrieve(url, save_path)\n",
    "\n",
    "    try:\n",
    "        # Extracting zip file using the zipfile package.\n",
    "        with ZipFile(save_path) as z:\n",
    "            # Extract ZIP file contents in the same directory.\n",
    "            z.extractall(os.path.split(save_path)[0])\n",
    "\n",
    "        print(\"Done\")\n",
    "\n",
    "    except Exception as e:\n",
    "        print(\"\\nInvalid file.\", e)"
   ]
  },
  {
   "cell_type": "code",
   "execution_count": 9,
   "id": "1899a2e9-3f57-4965-acb9-52e6f8507bf3",
   "metadata": {},
   "outputs": [
    {
     "name": "stdout",
     "output_type": "stream",
     "text": [
      "Downloading and extracting assests....Done\n"
     ]
    }
   ],
   "source": [
    "URL = r\"https://www.dropbox.com/s/qhhlqcica1nvtaw/opencv_bootcamp_assets_NB1.zip?dl=1\"\n",
    "\n",
    "asset_zip_path = os.path.join(os.getcwd(), f\"opencv_bootcamp_assets_NB1.zip\")\n",
    "\n",
    "# Download if assest ZIP does not exists. \n",
    "if not os.path.exists(asset_zip_path):\n",
    "    download_and_unzip(URL, asset_zip_path) "
   ]
  },
  {
   "cell_type": "code",
   "execution_count": 11,
   "id": "1acbfa0f-7f7d-4d61-adb5-9f8dbb90ba39",
   "metadata": {},
   "outputs": [
    {
     "data": {
      "image/png": "[encoded data removed]",
      "text/plain": [
       "<IPython.core.display.Image object>"
      ]
     },
     "execution_count": 11,
     "metadata": {},
     "output_type": "execute_result"
    }
   ],
   "source": [
    "Image(filename=\"checkerboard_18x18.png\")"
   ]
  },
  {
   "cell_type": "code",
   "execution_count": null,
   "id": "ef9983fe-f156-4c1f-bbc7-66f3c71168c2",
   "metadata": {},
   "outputs": [],
   "source": []
  }
 ],
 "metadata": {
  "kernelspec": {
   "display_name": "Python [conda env:base] *",
   "language": "python",
   "name": "conda-base-py"
  },
  "language_info": {
   "codemirror_mode": {
    "name": "ipython",
    "version": 3
   },
   "file_extension": ".py",
   "mimetype": "text/x-python",
   "name": "python",
   "nbconvert_exporter": "python",
   "pygments_lexer": "ipython3",
   "version": "3.12.7"
  }
 },
 "nbformat": 4,
 "nbformat_minor": 5
}
